{
  "nbformat": 4,
  "nbformat_minor": 0,
  "metadata": {
    "colab": {
      "provenance": []
    },
    "kernelspec": {
      "name": "python3",
      "display_name": "Python 3"
    },
    "language_info": {
      "name": "python"
    }
  },
  "cells": [
    {
      "cell_type": "markdown",
      "source": [
        "# **Theory Questions:**"
      ],
      "metadata": {
        "id": "kgHNiTSzlS4X"
      }
    },
    {
      "cell_type": "markdown",
      "source": [
        " 1. What is the difference between a function and a method in Python?\n",
        " - Function is a block of code that performs the specific task & can be called again and again. It is defined using def.\n",
        " While\n",
        " Method is a function associated with an object, called on object using dot notation."
      ],
      "metadata": {
        "id": "vlG8R_vhgoB6"
      }
    },
    {
      "cell_type": "markdown",
      "source": [
        " 2. Explain the concept of function arguments and parameters in Python.\n",
        " - Function arguments are values thatyou provide to a function when you call it. These arguments can be used by the function to perform a specific task.\n",
        "  Function parameter are the variables listed inside the paranthesis() in a function definition.\n"
      ],
      "metadata": {
        "id": "1NqktIB3goSG"
      }
    },
    {
      "cell_type": "markdown",
      "source": [
        " 3. What are the different ways to define and call a function in Python?\n",
        " - Defining a function :        \n",
        "  ~ Standard functions : using def\n",
        "      ~Lambda functions : for short anonymoud function.\n",
        "Calling function :    \n",
        "~ Positional arguments.\n",
        "~ Keyword arguments.\n"
      ],
      "metadata": {
        "id": "kCs1Gx8qgobB"
      }
    },
    {
      "cell_type": "markdown",
      "source": [
        "4. What is the purpose of the `return` statement in a Python function?\n",
        "- The return statement in python :      \n",
        "~ Exit the function : Stop executing the functions.\n",
        "~ Sends back a value: to the caller.\n",
        "~ Without return , the function return none by default."
      ],
      "metadata": {
        "id": "OYM_0_5jgojy"
      }
    },
    {
      "cell_type": "markdown",
      "source": [
        " 5. What are iterators in Python and how do they differ from iterables?\n",
        " - Iterator in python is an object that is used to iterate over iterable objects like lists, tuples, dictionaries and sets.\n",
        " Difference :\n",
        " Iterables : An object you can loop over. Implements_iter_()    \n",
        " Iterator : Does the actual looping by keeping track of position. Implements_next_()"
      ],
      "metadata": {
        "id": "Nljjn5kTgonB"
      }
    },
    {
      "cell_type": "markdown",
      "source": [
        " 6. Explain the concept of generators in Python and how they are defined.\n",
        "- Generator functions in Python are a way to create iterators in a more concise and memory-efficient manner\n",
        " These functions allow you to iterate over a potentially large sequence of data without loading the entire sequence memory."
      ],
      "metadata": {
        "id": "P-rin-lWgoqU"
      }
    },
    {
      "cell_type": "markdown",
      "source": [
        "7. What are the advantages of using generators over regular functions?\n",
        "- The advantage of using a generator function over a regular function is that the later uses the yield keyword to produce a series of values over time, one at a time, rather than returning a single result."
      ],
      "metadata": {
        "id": "GNEaWwUWgotL"
      }
    },
    {
      "cell_type": "markdown",
      "source": [
        "8. What is a lambda function in Python and when is it typically used?\n",
        "- A lambda function in Python is a concise way to create anonymous functions, also known as lambda expressions.\n",
        " Unlike regular functions defined using the def keyword, lambda functions are often used for short-term operations and are defined in a single line."
      ],
      "metadata": {
        "id": "7cS9jxEwgo1q"
      }
    },
    {
      "cell_type": "markdown",
      "source": [
        " 9. Explain the purpose and usage of the `map()` function in Python.\n",
        " - The `map()` function executes a specified function for each item in an `iterable`. The item is sent to the function as a parameter. The map() function in Python is a built-in function that applies a given function to all the items in an iterable (e.g., a list) and returns an iterable map object (an iterator) of the results.\n",
        "  "
      ],
      "metadata": {
        "id": "RQzW8NLXgo8L"
      }
    },
    {
      "cell_type": "markdown",
      "source": [
        " 10. What is the difference between `map()`, `reduce()`, and `filter()` functions in Python?\n",
        " -Differences :    \n",
        " -  Purpose:\n",
        " - map() : Transform each item.\n",
        "- reduce() : Cobines items into a one value.\n",
        "- filter() : Keep items if condition is true.\n",
        "-  Output :\n",
        "- map() & filter() : Returns iterstors.\n",
        "- reducr() : Returns a single value.\n",
        "- Usage :    \n",
        "- Use map() for transformations.\n",
        "- Use reduce() for reduction.\n",
        "- Use filter() for filtering."
      ],
      "metadata": {
        "id": "zzzelooLgpHq"
      }
    },
    {
      "cell_type": "markdown",
      "source": [
        "11. Using pen & Paper write the internal mechanism for sum operation using  reduce function on this given list:[47,11,42,13];\n",
        "(Attach paper image for this answer) in doc or colab notebook.\n"
      ],
      "metadata": {
        "id": "L6Cw12EDgpPC"
      }
    },
    {
      "cell_type": "markdown",
      "source": [
        "# **# Practical Questions:**"
      ],
      "metadata": {
        "id": "Eq1VEn9Q4MbE"
      }
    },
    {
      "cell_type": "code",
      "source": [
        "#1.Write a python function that takes a list of numbers as input and returns the sum of all even numbers in the list.\n",
        "def sum_even_numbers(numbers):\n",
        "    return sum(num for num in numbers if num % 2 ==0)\n",
        "numbers = [1, 2, 3, 4, 5, 6]\n",
        "result = sum_even_numbers(numbers)\n",
        "print(result)\n",
        ""
      ],
      "metadata": {
        "id": "BCplRo034FHb",
        "colab": {
          "base_uri": "https://localhost:8080/"
        },
        "outputId": "071ecc8b-b6d8-4b2b-e717-02d8398403dd"
      },
      "execution_count": 44,
      "outputs": [
        {
          "output_type": "stream",
          "name": "stdout",
          "text": [
            "12\n"
          ]
        }
      ]
    },
    {
      "cell_type": "code",
      "source": [
        "#2. Create a Python function that accepts a string and returns the reverse of that string.\n",
        "def reverse_string(s):\n",
        "    return s[::-1]\n",
        "\n",
        "original_string = \"Hello, World!\"\n",
        "reversed_string = reverse_string(original_string)\n",
        "print(reversed_string)"
      ],
      "metadata": {
        "id": "Du0Ue0FS4Fkx",
        "colab": {
          "base_uri": "https://localhost:8080/"
        },
        "outputId": "472fb602-8a9f-4fac-e917-0837feb787af"
      },
      "execution_count": 50,
      "outputs": [
        {
          "output_type": "stream",
          "name": "stdout",
          "text": [
            "!dlroW ,olleH\n"
          ]
        }
      ]
    },
    {
      "cell_type": "code",
      "source": [
        "#3.Implement a python function that takes a list of integers and returns a new list containing the square of each number.\n",
        "def square_number(n):\n",
        "    result = []\n",
        "    for i in range(n):\n",
        "        result.append(i**2)\n",
        "    return result\n",
        "\n",
        "square_number(10)"
      ],
      "metadata": {
        "id": "iOdDlK064Ftt",
        "colab": {
          "base_uri": "https://localhost:8080/"
        },
        "outputId": "d9a41cd7-209f-4612-bd5a-683687cc9411"
      },
      "execution_count": 42,
      "outputs": [
        {
          "output_type": "execute_result",
          "data": {
            "text/plain": [
              "[0, 1, 4, 9, 16, 25, 36, 49, 64, 81]"
            ]
          },
          "metadata": {},
          "execution_count": 42
        }
      ]
    },
    {
      "cell_type": "code",
      "metadata": {
        "colab": {
          "base_uri": "https://localhost:8080/"
        },
        "id": "2a708537",
        "outputId": "caeb64b3-a346-4601-fbc0-379ad7f53288"
      },
      "source": [
        "# 4. Write a Python function that checks if a given number is prime or not from 1 to 200.\n",
        "\n",
        "def is_prime(n):\n",
        "    if n <= 1:\n",
        "        return False\n",
        "    if n <= 3:\n",
        "        return True\n",
        "    if n % 2 == 0 or n % 3 == 0:\n",
        "        return False\n",
        "    i = 5\n",
        "    while i * i <= n:\n",
        "        if n % i == 0 or n % (i + 2) == 0:\n",
        "            return False\n",
        "        i += 6\n",
        "    return True\n",
        "\n",
        "# Example usage (checking prime numbers from 1 to 200)\n",
        "for number in range(1, 201):\n",
        "    if is_prime(number):\n",
        "        print(f\"{number} is prime\")"
      ],
      "execution_count": 59,
      "outputs": [
        {
          "output_type": "stream",
          "name": "stdout",
          "text": [
            "2 is prime\n",
            "3 is prime\n",
            "5 is prime\n",
            "7 is prime\n",
            "11 is prime\n",
            "13 is prime\n",
            "17 is prime\n",
            "19 is prime\n",
            "23 is prime\n",
            "29 is prime\n",
            "31 is prime\n",
            "37 is prime\n",
            "41 is prime\n",
            "43 is prime\n",
            "47 is prime\n",
            "53 is prime\n",
            "59 is prime\n",
            "61 is prime\n",
            "67 is prime\n",
            "71 is prime\n",
            "73 is prime\n",
            "79 is prime\n",
            "83 is prime\n",
            "89 is prime\n",
            "97 is prime\n",
            "101 is prime\n",
            "103 is prime\n",
            "107 is prime\n",
            "109 is prime\n",
            "113 is prime\n",
            "127 is prime\n",
            "131 is prime\n",
            "137 is prime\n",
            "139 is prime\n",
            "149 is prime\n",
            "151 is prime\n",
            "157 is prime\n",
            "163 is prime\n",
            "167 is prime\n",
            "173 is prime\n",
            "179 is prime\n",
            "181 is prime\n",
            "191 is prime\n",
            "193 is prime\n",
            "197 is prime\n",
            "199 is prime\n"
          ]
        }
      ]
    },
    {
      "cell_type": "code",
      "source": [
        "# 5. Create an iterator class in Python that generates the Fibonacci sequence up to a specified number of\n",
        "# terms.\n",
        "def fib(n):\n",
        "    a, b = 0, 1\n",
        "    for _ in range(n):\n",
        "        yield a\n",
        "        a, b = b, a + b\n",
        "\n",
        "f = fib(10)\n",
        "print(list(f))"
      ],
      "metadata": {
        "id": "brMcUjuY4F7k",
        "colab": {
          "base_uri": "https://localhost:8080/"
        },
        "outputId": "93c61a37-2d3c-4981-ac58-1074ad9035db"
      },
      "execution_count": 62,
      "outputs": [
        {
          "output_type": "stream",
          "name": "stdout",
          "text": [
            "[0, 1, 1, 2, 3, 5, 8, 13, 21, 34]\n"
          ]
        }
      ]
    },
    {
      "cell_type": "code",
      "source": [
        "#6. Write a generator function in Python that yields the powers of 2 up to a given exponent.\n",
        "def powers_of_two(exponent):\n",
        "    for i in range(exponent + 1):\n",
        "        yield 2**i\n",
        "\n",
        "# Example usage:\n",
        "for power in powers_of_two(10):\n",
        "    print(power)"
      ],
      "metadata": {
        "id": "ltpCD1bd4F_L",
        "colab": {
          "base_uri": "https://localhost:8080/"
        },
        "outputId": "2237a3dc-d806-468e-85df-56f291a585e4"
      },
      "execution_count": 66,
      "outputs": [
        {
          "output_type": "stream",
          "name": "stdout",
          "text": [
            "1\n",
            "2\n",
            "4\n",
            "8\n",
            "16\n",
            "32\n",
            "64\n",
            "128\n",
            "256\n",
            "512\n",
            "1024\n"
          ]
        }
      ]
    },
    {
      "cell_type": "code",
      "source": [
        "#8. Use a lambda function in Python to sort a list of tuples based on the second element of each tuple.\n",
        "list_of_tuples = [(1, 'c'), (2, 'a'), (3, 'b')]\n",
        "sorted_list = sorted(list_of_tuples, key=lambda item: item[1])\n",
        "print(\"8. Sorted list of tuples by second element:\", sorted_list)\n"
      ],
      "metadata": {
        "colab": {
          "base_uri": "https://localhost:8080/"
        },
        "id": "em3VxkX5u6da",
        "outputId": "c8e040c8-5a1b-41d1-8069-073625840312"
      },
      "execution_count": 78,
      "outputs": [
        {
          "output_type": "stream",
          "name": "stdout",
          "text": [
            "8. Sorted list of tuples by second element: [(2, 'a'), (3, 'b'), (1, 'c')]\n"
          ]
        }
      ]
    },
    {
      "cell_type": "code",
      "source": [
        "#9. Write a Python program that uses `map()` to convert a list of temperatures from Celsius to Fahrenheit.\n",
        "celsius_temps = [0, 10, 20, 30, 40]\n",
        "fahrenheit_temps = list(map(lambda c: (c * 9/5) + 32, celsius_temps))\n",
        "print(\" Celsius to Fahrenheit conversion:\", fahrenheit_temps)\n"
      ],
      "metadata": {
        "colab": {
          "base_uri": "https://localhost:8080/"
        },
        "id": "1uhAgFenuxbY",
        "outputId": "52fcd358-c08e-456f-f27b-24f440d3815e"
      },
      "execution_count": 80,
      "outputs": [
        {
          "output_type": "stream",
          "name": "stdout",
          "text": [
            " Celsius to Fahrenheit conversion: [32.0, 50.0, 68.0, 86.0, 104.0]\n"
          ]
        }
      ]
    },
    {
      "cell_type": "code",
      "source": [
        "#10. Create a Python program that uses `filter()` to remove all the vowels from a given string.\n",
        "test_string = \"Hello World\"\n",
        "vowels = \"aeiouAEIOU\"\n",
        "filtered_string = \"\".join(filter(lambda char: char not in vowels, test_string))\n",
        "print(\"String with vowels removed:\", filtered_string)\n"
      ],
      "metadata": {
        "colab": {
          "base_uri": "https://localhost:8080/"
        },
        "id": "SHtGYh5ruhel",
        "outputId": "b6e98f38-00fc-410f-9a08-7f3ed6874ceb"
      },
      "execution_count": 81,
      "outputs": [
        {
          "output_type": "stream",
          "name": "stdout",
          "text": [
            "String with vowels removed: Hll Wrld\n"
          ]
        }
      ]
    },
    {
      "cell_type": "code",
      "source": [
        "# 11) Imagine an accounting routine used in a book shop...\n",
        "orders = [\n",
        "    (34587, 'Learning Python, Mark Lutz', 4, 40.95),\n",
        "    (98762, 'Programming Python, Mark Lutz', 5, 56.80),\n",
        "    (77226, 'Head First Python,Paul Barry', 3, 32.95),\n",
        "    (88112, 'Einfuhrung in Python3,Bernd Klein', 3, 24.99)\n",
        "]\n",
        "\n",
        "process_orders = list(map(lambda order: (order[0], order[2] * order[3] + (10 if order[2] * order[3] < 100 else 0)), orders))\n",
        "print(\" Processed orders:\", process_orders)"
      ],
      "metadata": {
        "colab": {
          "base_uri": "https://localhost:8080/"
        },
        "id": "Oe3x1Z_0uLJz",
        "outputId": "7ab14eeb-85ed-45e0-9f38-b966b6d5ff52"
      },
      "execution_count": 82,
      "outputs": [
        {
          "output_type": "stream",
          "name": "stdout",
          "text": [
            " Processed orders: [(34587, 163.8), (98762, 284.0), (77226, 108.85000000000001), (88112, 84.97)]\n"
          ]
        }
      ]
    }
  ]
}